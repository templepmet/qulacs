{
 "nbformat": 4,
 "nbformat_minor": 2,
 "metadata": {
  "language_info": {
   "name": "python",
   "codemirror_mode": {
    "name": "ipython",
    "version": 3
   },
   "version": "3.7.4-final"
  },
  "orig_nbformat": 2,
  "file_extension": ".py",
  "mimetype": "text/x-python",
  "name": "python",
  "npconvert_exporter": "python",
  "pygments_lexer": "ipython3",
  "version": 3,
  "kernelspec": {
   "name": "python37664bit4a25b23410344f6a8c1e61fdaa4cf3f1",
   "display_name": "Python 3.7.6 64-bit"
  }
 },
 "cells": [
  {
   "cell_type": "markdown",
   "metadata": {},
   "source": [
    "# Implementing Quantum Algorithms"
   ]
  },
  {
   "cell_type": "markdown",
   "metadata": {},
   "source": [
    "This chapter consists a collection of notebooks showing how to use qulacs to study quantum computing algorithms"
   ]
  },
  {
   "cell_type": "markdown",
   "metadata": {
     "nbsphinx-toctree": {}
   },
   "source": [
    "- [1.1 Quantum Circuit Learing](5.2_qcl.ipynb)\n",
    "- [1.2 Variational Quantum Eigensolver](6.2_vqe.ipynb)\n",
    "- [1.3 Subspace-Search Variational Quantum Eigensolver](6.3_ssvqe.ipynb)"
   ]
  }
 ]
}
