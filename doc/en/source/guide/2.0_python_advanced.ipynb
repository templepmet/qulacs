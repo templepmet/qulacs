{
 "cells": [
  {
   "cell_type": "markdown",
   "metadata": {},
   "source": [
    "# Qulacs Python Advanced Guide\n",
    "\n",
    "This chapter is for those who are familiar with the terminology of quantum information and want fine tuning for numerical calculations. For more information on terminology, please see the textbook **Quantum Computation and Quantum Information** by M.A. Nielsen et al.."
   ]
  },
  {
   "cell_type": "markdown",
   "metadata": {},
   "source": [
    "## Quantum States\n",
    "This class allocates and manages $2^n$ complex arrays on the CPU/GPU with the precision of complex128."
   ]
  },
  {
   "cell_type": "markdown",
   "metadata": {},
   "source": [
    "### Create and Destroy\n",
    "Necessary memory is secured at the time of instance creation and released when the instance is destroyed, but you can explicitly destroy it to release the memory with `del`. A formatted display of the state vector is provided through `__repr__` function overrides."
   ]
  },
  {
   "cell_type": "code",
   "execution_count": 1,
   "metadata": {},
   "outputs": [
    {
     "name": "stdout",
     "output_type": "stream",
     "text": [
      " *** Quantum State ***\n",
      " * Qubit Count : 2\n",
      " * Dimension   : 4\n",
      " * State vector : \n",
      "(1,0)\n",
      "(0,0)\n",
      "(0,0)\n",
      "(0,0)\n",
      "\n"
     ]
    }
   ],
   "source": [
    "from qulacs import QuantumState\n",
    "n = 2\n",
    "state = QuantumState(n)\n",
    "print(state)\n",
    "del state"
   ]
  },
  {
   "cell_type": "markdown",
   "metadata": {},
   "source": [
    "### Transform between quantum state and numpy array\n",
    "Transformation between quantum state and numpy array can be realized by `get_vector` or `load` function. In principle, it is not checked whether the norm is saved."
   ]
  },
  {
   "cell_type": "code",
   "execution_count": 2,
   "metadata": {},
   "outputs": [
    {
     "name": "stdout",
     "output_type": "stream",
     "text": [
      "[1.+0.j 0.+0.j 0.+0.j 0.+0.j]\n",
      "[0.+0.j 1.+0.j 2.+0.j 3.+0.j]\n"
     ]
    }
   ],
   "source": [
    "from qulacs import QuantumState\n",
    "\n",
    "state = QuantumState(2)\n",
    "vec = state.get_vector()\n",
    "print(vec)\n",
    "state.load([0,1,2,3])\n",
    "print(state.get_vector())"
   ]
  },
  {
   "cell_type": "markdown",
   "metadata": {},
   "source": [
    "### Copy of quantum state\n",
    "Quantum states can generate new instances of the same state by `copy`. By giving a quantum state to the load function, it is possible to copy a quantum vector of another quantum state without securing a new area in the existing quantum state. This allows you to reuse the already allocated space. You can use the `allocate_buffer` function if you want to secure a state vector of the same size as the quantum state you already have and without copying the state."
   ]
  },
  {
   "cell_type": "code",
   "execution_count": 3,
   "metadata": {},
   "outputs": [],
   "source": [
    "from qulacs import QuantumState\n",
    "\n",
    "initial_state = QuantumState(3)\n",
    "buffer = initial_state.allocate_buffer()\n",
    "for ind in range(10):\n",
    "    buffer.load(initial_state)\n",
    "    # some computation and get results"
   ]
  },
  {
   "cell_type": "markdown",
   "metadata": {},
   "source": [
    "### Initialization of quantum state\n",
    "The following is an function initializing a quantum state to a specific state."
   ]
  },
  {
   "cell_type": "code",
   "execution_count": 4,
   "metadata": {},
   "outputs": [
    {
     "name": "stdout",
     "output_type": "stream",
     "text": [
      "[1.+0.j 0.+0.j 0.+0.j 0.+0.j 0.+0.j 0.+0.j 0.+0.j 0.+0.j]\n",
      "[0.+0.j 0.+0.j 0.+0.j 0.+0.j 0.+0.j 1.+0.j 0.+0.j 0.+0.j]\n",
      "[ 0.17875932+0.12507972j  0.28161322-0.20162504j  0.21880416-0.04754893j\n",
      "  0.01570731+0.46979145j -0.0216192 +0.46023702j -0.20700612+0.09443371j\n",
      " -0.03203312+0.3305667j   0.43080876+0.03745933j]\n"
     ]
    }
   ],
   "source": [
    "from qulacs import QuantumState\n",
    "\n",
    "n = 3\n",
    "state = QuantumState(n)\n",
    "# Initialize as |0> state\n",
    "state.set_zero_state()\n",
    "print(state.get_vector())\n",
    "\n",
    "# Initialize the specified value to the calculation base in binary notation\n",
    "state.set_computational_basis(0b101)\n",
    "print(state.get_vector())\n",
    "\n",
    "# Initialize to random pure state with Haar measure using argument value as seed\n",
    "# If no value is specified, the time function is used as a seed. Pseudo random number uses xorshift.\n",
    "state.set_Haar_random_state(0)\n",
    "print(state.get_vector())"
   ]
  },
  {
   "cell_type": "markdown",
   "metadata": {},
   "source": [
    "### Check quantum state\n",
    "The following is a list of functions for checking quantum state information without changing the quantum state."
   ]
  },
  {
   "cell_type": "code",
   "execution_count": 5,
   "metadata": {},
   "outputs": [
    {
     "name": "stdout",
     "output_type": "stream",
     "text": [
      "qubit_count 5\n",
      "zero_prob_1 0.6177236324405834\n",
      "marginal_prob 0.3266606041128599\n",
      "entropy 3.1462789915919283\n",
      "sqaured_norm 0.9999999999999998\n",
      "sampling [10, 4, 4, 28, 21, 9, 22, 1, 21, 21]\n",
      "device cpu\n"
     ]
    }
   ],
   "source": [
    "from qulacs import QuantumState\n",
    "\n",
    "n = 5\n",
    "state = QuantumState(n)\n",
    "state.set_Haar_random_state(0)\n",
    "\n",
    "# Get quantum bit numbers\n",
    "qubit_count = state.get_qubit_count()\n",
    "print(\"qubit_count\", qubit_count)\n",
    "\n",
    "# Get the probability that the specified qubit will be measured as 0\n",
    "prob = state.get_zero_probability(1)\n",
    "print(\"zero_prob_1\", prob)\n",
    "\n",
    "# Get arbitrary marginal probabilities\n",
    "# Argument is an array of the same length as the number of qubits\n",
    "# Specify 0,1,2. 0,1 is the probability of the subscript measured at that value\n",
    "# 2 means that bit is peripheralized.\n",
    "# For example, calculation of the probability that the third is measured as 0 and the 0th is measured as 1:\n",
    "prob = state.get_marginal_probability([1,2,2,0,2])\n",
    "print(\"marginal_prob\", prob)\n",
    "\n",
    "# Get the entropy of the probability distribution when measured on the Z basis\n",
    "ent = state.get_entropy()\n",
    "print(\"entropy\", ent)\n",
    "\n",
    "# Get squared norm (<a|a>)\n",
    "# Because the operation maybe not Trace preserving, the norm of state does not necessarily to be 1.\n",
    "sq_norm = state.get_squared_norm()\n",
    "print(\"sqaured_norm\", sq_norm)\n",
    "\n",
    "# The number of measurements and sampling of all qubits Z-basis is given by the argument.\n",
    "# Get a list of integers converted from the resulting binaries.\n",
    "samples = state.sampling(10)\n",
    "print(\"sampling\", samples)\n",
    "\n",
    "# Get a character string indicating whether the state vector is on CPU or GPU\n",
    "dev_type = state.get_device_name()\n",
    "print(\"device\", dev_type)"
   ]
  },
  {
   "cell_type": "markdown",
   "metadata": {},
   "source": [
    "### Deformation of quantum state\n",
    "The following function rewrites the quantum state."
   ]
  },
  {
   "cell_type": "code",
   "execution_count": 6,
   "metadata": {},
   "outputs": [
    {
     "name": "stdout",
     "output_type": "stream",
     "text": [
      "state [1.+0.j 0.+0.j 0.+0.j 0.+0.j]\n",
      "buffer [0.+0.j 0.+0.j 1.+0.j 0.+0.j]\n",
      "added [1.+0.j 0.+0.j 1.+0.j 0.+0.j]\n",
      "mul_coef [0.5+0.1j 0. +0.j  0.5+0.1j 0. +0.j ]\n",
      "sq_norm 0.52\n",
      "normalized [0.69337525+0.13867505j 0.        +0.j         0.69337525+0.13867505j\n",
      " 0.        +0.j        ]\n",
      "sq_norm 0.9999999999999998\n"
     ]
    }
   ],
   "source": [
    "from qulacs import QuantumState\n",
    "state = QuantumState(2)\n",
    "state.set_computational_basis(0)\n",
    "buffer = QuantumState(2)\n",
    "buffer.set_computational_basis(2)\n",
    "print(\"state\" , state.get_vector())\n",
    "print(\"buffer\", buffer.get_vector())\n",
    "\n",
    "# Sum of quantum state (state <- state+buffer)\n",
    "# Add the buffer state to the state to create a superimposed state.\n",
    "# The norm after operation generally is not 1.\n",
    "state.add_state(buffer)\n",
    "print(\"added\", state.get_vector())\n",
    "\n",
    "# Product of quantum state and complex number\n",
    "# Multiplies all elements by the complex number of the argument. \n",
    "# The norm after operation generally is not 1.\n",
    "coef = 0.5 + 0.1j\n",
    "state.multiply_coef(coef)\n",
    "print(\"mul_coef\", state.get_vector())\n",
    "\n",
    "# Normalization of quantum states\n",
    "# The current squared norm needs to be provided as an argument.\n",
    "squared_norm = state.get_squared_norm()\n",
    "print(\"sq_norm\", squared_norm)\n",
    "state.normalize(squared_norm)\n",
    "print(\"normalized\", state.get_vector())\n",
    "print(\"sq_norm\", state.get_squared_norm())"
   ]
  },
  {
   "cell_type": "markdown",
   "metadata": {},
   "source": [
    "### Opetation on classic register\n",
    "Quantum states have classical registers as arrays of integers with variable length. The classical register is used to write the result of the Instrument operation or to describe a gate that executes conditions as the result of the classical register. The value of a classic register that has not yet been written is 0. The classical register is copied at the same time when the quantum state is copied by the `copy` and `load` functions."
   ]
  },
  {
   "cell_type": "code",
   "execution_count": 7,
   "metadata": {},
   "outputs": [
    {
     "name": "stdout",
     "output_type": "stream",
     "text": [
      "20\n"
     ]
    }
   ],
   "source": [
    "from qulacs import QuantumState\n",
    "state = QuantumState(3)\n",
    "position = 0\n",
    "# Write the value to position number\n",
    "value = 20\n",
    "state.set_classical_value(position, value)\n",
    "# Get the value of the register at position position number\n",
    "obtained = state.get_classical_value(position)\n",
    "print(obtained)"
   ]
  },
  {
   "cell_type": "markdown",
   "metadata": {},
   "source": [
    "### Calculation between quantum states\n",
    "The inner product between quantum states can be obtained by `inner_product`."
   ]
  },
  {
   "cell_type": "code",
   "execution_count": 8,
   "metadata": {},
   "outputs": [
    {
     "name": "stdout",
     "output_type": "stream",
     "text": [
      "(-0.06763387457138917-0.02885458593002302j)\n"
     ]
    }
   ],
   "source": [
    "from qulacs import QuantumState\n",
    "from qulacs.state import inner_product\n",
    "\n",
    "n = 5\n",
    "state_bra = QuantumState(n)\n",
    "state_ket = QuantumState(n)\n",
    "state_bra.set_Haar_random_state()\n",
    "state_ket.set_computational_basis(0)\n",
    "\n",
    "# Calculation of inner product\n",
    "value = inner_product(state_bra, state_ket)\n",
    "print(value)"
   ]
  },
  {
   "cell_type": "markdown",
   "metadata": {},
   "source": [
    "Though the usage is the same as `QuantumState`, there are two aspects to keep in mind:\n",
    "\n",
    "* The `get_vector` function takes a long time because it requires copying between the GPU and CPU. This function should be avoided whenever possible.\n",
    "* `inner_product` between CPU / GPU states cannot be calculated. It is possible to `load` a state vector between the GPU and CPU state vectors, but it is time consuming and should be avoided."
   ]
  },
  {
   "cell_type": "markdown",
   "metadata": {},
   "source": [
    "### Calculation using GPU\n",
    "When Qulacs is installed from qulacs-gpu package, `QuantumStateGpu` is available. Except the different class name, the usage is the same as `QuantumState`."
   ]
  },
  {
   "cell_type": "markdown",
   "metadata": {},
   "source": [
    "```python\n",
    "from qulacs import QuantumStateGpu\n",
    "state = QuantumStateGpu(2)\n",
    "print(state)\n",
    "# print(state.get_device_name())\n",
    "# gpu\n",
    "```"
   ]
  },
  {
   "cell_type": "markdown",
   "metadata": {},
   "source": [
    "## Quantum gates\n",
    "\n",
    "### Types of quantum gate\n",
    "Quantum gates are divided into two types: special gates and general gates. In Qulacs, quantum gates are not limited to unitary operators, and the operation of updating an arbitrary quantum state, such as Instrument and CPTP-map, is also called a gate.\n",
    "\n",
    "Special gates are those that have a pre-specified gate matrix and can only perform limited deformations on quantum gates. For example, Pauli gate, rotation Pauli gate, projection measurement, etc. are supported. The advantage of a special gate is that the update function of the quantum state is more efficient than a general gate with limited properties. Also, at the time of definition, it holds information on whether or not it is diagonalized by each qubit at the basis of some Pauli, and this information is used for circuit optimization. The disadvantage of special gates is that the possible operations on the gates are limited for the reasons mentioned above.\n",
    "\n",
    "A gate that has an explicit operation gate matrix is called a general gate. The advantage of general gates is that you can specify the gate matrix as you like, but the disadvantage is that the updates are slower than special gates.\n",
    "\n",
    "### Common operations for quantum gates\n",
    "The gate matrix of the generated quantum gate can be obtained with the `get_matrix` function. Control qubits are not included in the gate matrix. In particular, be careful when obtain gates that do not have a gate matrix (for example, $n$-qubit Pauli rotating gates), which require a very large amount of memory and time. `print` function displays the gate information."
   ]
  },
  {
   "cell_type": "code",
   "execution_count": 9,
   "metadata": {},
   "outputs": [
    {
     "name": "stdout",
     "output_type": "stream",
     "text": [
      "[[0.+0.j 1.+0.j]\n",
      " [1.+0.j 0.+0.j]]\n",
      " *** gate info *** \n",
      " * gate name : X\n",
      " * target    : \n",
      " 2 : commute X     \n",
      " * control   : \n",
      " * Pauli     : yes\n",
      " * Clifford  : yes\n",
      " * Gaussian  : no\n",
      " * Parametric: no\n",
      " * Diagonal  : no\n",
      "\n"
     ]
    }
   ],
   "source": [
    "import numpy as np\n",
    "from qulacs.gate import X\n",
    "gate = X(2)\n",
    "mat = gate.get_matrix()\n",
    "print(mat)\n",
    "print(gate)"
   ]
  },
  {
   "cell_type": "markdown",
   "metadata": {},
   "source": [
    "### Special gate\n",
    "The special gates are listed below.\n",
    "\n",
    "#### 1 qubit gate\n",
    "Takes the index of the target bit as the first argument."
   ]
  },
  {
   "cell_type": "code",
   "execution_count": 10,
   "metadata": {},
   "outputs": [
    {
     "name": "stdout",
     "output_type": "stream",
     "text": [
      " *** gate info *** \n",
      " * gate name : T\n",
      " * target    : \n",
      " 3 : commute       \n",
      " * control   : \n",
      " * Pauli     : no\n",
      " * Clifford  : no\n",
      " * Gaussian  : yes\n",
      " * Parametric: no\n",
      " * Diagonal  : no\n",
      "\n"
     ]
    }
   ],
   "source": [
    "from qulacs.gate import Identity # Identity matrix\n",
    "from qulacs.gate import X, Y, Z\t# Pauli\n",
    "from qulacs.gate import H, S, Sdag, sqrtX, sqrtXdag, sqrtY, sqrtYdag # クリフォード\n",
    "from qulacs.gate import T, Tdag # T gate\n",
    "from qulacs.gate import P0, P1 # Projection to 0,1 (not normalized)\n",
    "target = 3\n",
    "gate = T(target)\n",
    "print(gate)"
   ]
  },
  {
   "cell_type": "markdown",
   "metadata": {},
   "source": [
    "`Identity` does not update the quantum state, but when it is included into the quantum circuit, it is counted as a gate that consumes 1 step.\n",
    "\n",
    "#### 1 qubit rotating gate\n",
    "Take the index of the target bit as the first argument and the rotation angle as the second argument."
   ]
  },
  {
   "cell_type": "code",
   "execution_count": 11,
   "metadata": {},
   "outputs": [
    {
     "name": "stdout",
     "output_type": "stream",
     "text": [
      " *** gate info *** \n",
      " * gate name : X-rotation\n",
      " * target    : \n",
      " 0 : commute X     \n",
      " * control   : \n",
      " * Pauli     : no\n",
      " * Clifford  : no\n",
      " * Gaussian  : no\n",
      " * Parametric: no\n",
      " * Diagonal  : no\n",
      "\n",
      "[[0.99875026+0.j         0.        +0.04997917j]\n",
      " [0.        +0.04997917j 0.99875026+0.j        ]]\n"
     ]
    }
   ],
   "source": [
    "import numpy as np\n",
    "from qulacs.gate import RX, RY, RZ\n",
    "target = 0\n",
    "angle = 0.1\n",
    "gate = RX(target, angle)\n",
    "print(gate)\n",
    "print(gate.get_matrix())"
   ]
  },
  {
   "cell_type": "markdown",
   "metadata": {},
   "source": [
    "The definition of rotating operation is $R_X(\\theta) = \\exp(i\\frac{\\theta}{2} X)$です。\n",
    "\n",
    "#### IBMQ basis gate\n",
    " IBMQ basis gate is a gate based on the virtual-Z decomposition defined by IBMQ's OpenQASM."
   ]
  },
  {
   "cell_type": "code",
   "execution_count": 12,
   "metadata": {},
   "outputs": [
    {
     "name": "stdout",
     "output_type": "stream",
     "text": [
      " *** gate info *** \n",
      " * gate name : DenseMatrix\n",
      " * target    : \n",
      " 0 : commute       \n",
      " * control   : \n",
      " * Pauli     : no\n",
      " * Clifford  : no\n",
      " * Gaussian  : no\n",
      " * Parametric: no\n",
      " * Diagonal  : no\n",
      " * Matrix\n",
      "            (0.99875,0) (-0.0477469,-0.0147699)\n",
      " (0.0489829,0.00992933)     (0.876486,0.478826)\n",
      "\n"
     ]
    }
   ],
   "source": [
    "from qulacs.gate import U1,U2,U3\n",
    "print(U3(0, 0.1, 0.2, 0.3))"
   ]
  },
  {
   "cell_type": "markdown",
   "metadata": {},
   "source": [
    "Definitions are:\n",
    "\n",
    "* $U_1(\\lambda) = R_Z(\\lambda)$\n",
    "* $U_2(\\phi, \\lambda) = R_Z(\\phi+\\frac{\\pi}{2}) R_X(\\frac{\\pi}{2}) R_Z(\\lambda-\\frac{\\pi}{2})$\n",
    "* $U_3(\\theta, \\phi, \\lambda) = R_Z(\\phi+3\\pi) R_X(\\pi/2) R_Z(\\theta+\\pi) R_X(\\pi/2) R_Z(\\lambda)$\n",
    "\n",
    "U3 matches the degree of freedom of any 1-qubit unitary operation.\n",
    "\n",
    "#### 2 qubit gate\n",
    "Take the indexes of the target bit in the first and second arguments. The first argument of the CNOT gate is a control qubit. The remaining gates are symmetric operations."
   ]
  },
  {
   "cell_type": "code",
   "execution_count": 13,
   "metadata": {},
   "outputs": [
    {
     "name": "stdout",
     "output_type": "stream",
     "text": [
      " *** gate info *** \n",
      " * gate name : CNOT\n",
      " * target    : \n",
      " 2 : commute X     \n",
      " * control   : \n",
      " 5 : value 1\n",
      " * Pauli     : no\n",
      " * Clifford  : yes\n",
      " * Gaussian  : no\n",
      " * Parametric: no\n",
      " * Diagonal  : no\n",
      "\n"
     ]
    }
   ],
   "source": [
    "from qulacs.gate import CNOT, CZ, SWAP\n",
    "control = 5\n",
    "target = 2\n",
    "target2 = 3\n",
    "gate = CNOT(control, target)\n",
    "print(gate)\n",
    "gate = CZ(control, target)\n",
    "gate = SWAP(target, target2)"
   ]
  },
  {
   "cell_type": "markdown",
   "metadata": {},
   "source": [
    "#### Multi-bit Pauli operation\n",
    "Multi-bit Pauli operations define a gate with arguments as a list of target qubits and a list of Pauli operators. Since the update speed of an $n$-qubit Pauli operation has the same order as the update cost of a 1-qubit Pauli operation, Pauli's tensor product is often defined the gate in this form. In the Pauli operator specification, 1, 2, and 3 correspond to X, Y, and Z, respectively."
   ]
  },
  {
   "cell_type": "code",
   "execution_count": 14,
   "metadata": {},
   "outputs": [
    {
     "name": "stdout",
     "output_type": "stream",
     "text": [
      " *** gate info *** \n",
      " * gate name : Pauli\n",
      " * target    : \n",
      " 0 : commute X     \n",
      " 3 : commute     Z \n",
      " 5 : commute X     \n",
      " * control   : \n",
      " * Pauli     : no\n",
      " * Clifford  : no\n",
      " * Gaussian  : no\n",
      " * Parametric: no\n",
      " * Diagonal  : no\n",
      "\n",
      "[[ 0.+0.j  0.+0.j  0.+0.j  0.+0.j  0.+0.j  1.+0.j  0.+0.j  0.+0.j]\n",
      " [ 0.+0.j  0.+0.j  0.+0.j  0.+0.j  1.+0.j  0.+0.j  0.+0.j  0.+0.j]\n",
      " [ 0.+0.j  0.+0.j  0.+0.j  0.+0.j  0.+0.j  0.+0.j  0.+0.j -1.-0.j]\n",
      " [ 0.+0.j  0.+0.j  0.+0.j  0.+0.j  0.+0.j  0.+0.j -1.-0.j  0.+0.j]\n",
      " [ 0.+0.j  1.+0.j  0.+0.j  0.+0.j  0.+0.j  0.+0.j  0.+0.j  0.+0.j]\n",
      " [ 1.+0.j  0.+0.j  0.+0.j  0.+0.j  0.+0.j  0.+0.j  0.+0.j  0.+0.j]\n",
      " [ 0.+0.j  0.+0.j  0.+0.j -1.-0.j  0.+0.j  0.+0.j  0.+0.j  0.+0.j]\n",
      " [ 0.+0.j  0.+0.j -1.-0.j  0.+0.j  0.+0.j  0.+0.j  0.+0.j  0.+0.j]]\n"
     ]
    }
   ],
   "source": [
    "from qulacs.gate import Pauli\n",
    "target_list = [0,3,5]\n",
    "pauli_index = [1,3,1] # 1:X , 2:Y, 3:Z\n",
    "gate = Pauli(target_list, pauli_index) # = X_0 Z_3 X_5\n",
    "print(gate)\n",
    "print(gate.get_matrix())"
   ]
  },
  {
   "cell_type": "markdown",
   "metadata": {},
   "source": [
    "#### Multi-bit Pauli rotating operation\n",
    "Multi-bit Pauli rotating operation rotates multi-bit Pauli operator. The multi-bit Pauli rotation becomes heavy calculation when the gate matrix is calculated intuitively, but it can be updated efficiently if it is defined in this form."
   ]
  },
  {
   "cell_type": "code",
   "execution_count": 15,
   "metadata": {},
   "outputs": [
    {
     "name": "stdout",
     "output_type": "stream",
     "text": [
      " *** gate info *** \n",
      " * gate name : Pauli-rotation\n",
      " * target    : \n",
      " 0 : commute X     \n",
      " 3 : commute     Z \n",
      " 5 : commute X     \n",
      " * control   : \n",
      " * Pauli     : no\n",
      " * Clifford  : no\n",
      " * Gaussian  : no\n",
      " * Parametric: no\n",
      " * Diagonal  : no\n",
      "\n",
      "(8, 8)\n"
     ]
    }
   ],
   "source": [
    "from qulacs.gate import PauliRotation\n",
    "target_list = [0,3,5]\n",
    "pauli_index = [1,3,1] # 1:X , 2:Y, 3:Z\n",
    "angle = 0.5\n",
    "gate = PauliRotation(target_list, pauli_index, angle) # = exp(i angle/2 X_0 Z_3 X_5)\n",
    "print(gate)\n",
    "print(gate.get_matrix().shape)"
   ]
  },
  {
   "cell_type": "markdown",
   "metadata": {},
   "source": [
    "#### Reversible circuit\n",
    "Reversible circuit performs permutation operation between basis by giving a bijective function to a total number of $2^n$ index. This is equivalent to the gate matrix being a permutation matrix. Please note that it will not work properly unless it is bijective."
   ]
  },
  {
   "cell_type": "code",
   "execution_count": 16,
   "metadata": {},
   "outputs": [
    {
     "name": "stdout",
     "output_type": "stream",
     "text": [
      " *** gate info *** \n",
      " * gate name : ReversibleBoolean\n",
      " * target    : \n",
      " 0 : commute       \n",
      " 1 : commute       \n",
      " * control   : \n",
      " * Pauli     : no\n",
      " * Clifford  : no\n",
      " * Gaussian  : no\n",
      " * Parametric: no\n",
      " * Diagonal  : no\n",
      "\n",
      "[0.+0.j 1.+0.j 2.+0.j 3.+0.j 4.+0.j 5.+0.j 6.+0.j 7.+0.j]\n",
      "[3.+0.j 0.+0.j 1.+0.j 2.+0.j 7.+0.j 4.+0.j 5.+0.j 6.+0.j]\n"
     ]
    }
   ],
   "source": [
    "from qulacs.gate import ReversibleBoolean\n",
    "def upper(val, dim):\n",
    "    return (val+1)%dim\n",
    "target_list = [0,1]\n",
    "gate = ReversibleBoolean(target_list, upper)\n",
    "print(gate)\n",
    "state = QuantumState(3)\n",
    "state.load(np.arange(2**3))\n",
    "print(state.get_vector())\n",
    "gate.update_quantum_state(state)\n",
    "print(state.get_vector())"
   ]
  },
  {
   "cell_type": "markdown",
   "metadata": {},
   "source": [
    "The above code moves the elements of the vector down one by one in the subspace of the qubit of interest (the bottom element moves to the top).\n",
    "### State reflection\n",
    "This gate is $(I-2\\left|a\\right> \\left<a \\right|)$, which is defined with the quantum state $\\left|a\\right>$ as an argument. This corresponds to the operation of reflecting based on the quantum state $\\left|a\\right>$. This gate appears in Grover search. The number of qubits on which this gate operates must match the number of qubits in the quantum state given as an argument."
   ]
  },
  {
   "cell_type": "code",
   "execution_count": 17,
   "metadata": {},
   "outputs": [
    {
     "name": "stdout",
     "output_type": "stream",
     "text": [
      "axis [0.26990561+0.18885571j 0.42520294-0.30443016j 0.33036863-0.07179331j\n",
      " 0.02371619+0.70933j   ]\n",
      "reflected [-0.78296897+0.j          0.11454257-0.32493882j  0.15121954-0.16353884j\n",
      "  0.28072431+0.37394642j]\n",
      "two reflection [ 1.00000000e+00-2.77555756e-17j -5.55111512e-17+0.00000000e+00j\n",
      " -2.77555756e-17+2.77555756e-17j  0.00000000e+00-1.11022302e-16j]\n"
     ]
    }
   ],
   "source": [
    "from qulacs.gate import StateReflection\n",
    "from qulacs import QuantumState\n",
    "axis = QuantumState(2)\n",
    "axis.set_Haar_random_state(0)\n",
    "state = QuantumState(2)\n",
    "gate = StateReflection(axis)\n",
    "gate.update_quantum_state(state)\n",
    "print(\"axis\", axis.get_vector())\n",
    "print(\"reflected\", state.get_vector())\n",
    "gate.update_quantum_state(state)\n",
    "print(\"two reflection\", state.get_vector())"
   ]
  },
  {
   "cell_type": "markdown",
   "metadata": {},
   "source": [
    "### General gate\n",
    "This is a quantum gate with a gate matrix.\n",
    "\n",
    "### Dense matrix gate\n",
    "Gate defined based on a dense matrix."
   ]
  },
  {
   "cell_type": "code",
   "execution_count": 18,
   "metadata": {},
   "outputs": [
    {
     "name": "stdout",
     "output_type": "stream",
     "text": [
      " *** gate info *** \n",
      " * gate name : DenseMatrix\n",
      " * target    : \n",
      " 0 : commute       \n",
      " * control   : \n",
      " * Pauli     : no\n",
      " * Clifford  : no\n",
      " * Gaussian  : no\n",
      " * Parametric: no\n",
      " * Diagonal  : no\n",
      " * Matrix\n",
      "(0,0) (1,0)\n",
      "(1,0) (0,0)\n",
      "\n",
      " *** gate info *** \n",
      " * gate name : DenseMatrix\n",
      " * target    : \n",
      " 0 : commute       \n",
      " 1 : commute       \n",
      " * control   : \n",
      " * Pauli     : no\n",
      " * Clifford  : no\n",
      " * Gaussian  : no\n",
      " * Parametric: no\n",
      " * Diagonal  : no\n",
      " * Matrix\n",
      "(1,0) (0,0) (0,0) (0,0)\n",
      "(0,0) (1,0) (0,0) (0,0)\n",
      "(0,0) (0,0) (0,0) (1,0)\n",
      "(0,0) (0,0) (1,0) (0,0)\n",
      "\n"
     ]
    }
   ],
   "source": [
    "from qulacs.gate import DenseMatrix\n",
    "\n",
    "# 1-qubit gate\n",
    "gate = DenseMatrix(0, [[0,1],[1,0]])\n",
    "print(gate)\n",
    "\n",
    "# 2-qubit gate\n",
    "gate = DenseMatrix([0,1], [[1,0,0,0],[0,1,0,0],[0,0,0,1],[0,0,1,0]])\n",
    "print(gate)"
   ]
  },
  {
   "cell_type": "markdown",
   "metadata": {},
   "source": [
    "### Sparse matrix gate\n",
    "A gate defined based on a sparse matrix. If the elements are sparse enough, they can be updated faster than a dense matrix. Sparse matrices should be defined using scipy's `csc_matrix`."
   ]
  },
  {
   "cell_type": "code",
   "execution_count": 20,
   "metadata": {},
   "outputs": [
    {
     "name": "stdout",
     "output_type": "stream",
     "text": [
      "sparse matrix   (1, 1)\t1.0\n",
      " *** gate info *** \n",
      " * gate name : SparseMatrix\n",
      " * target    : \n",
      " 0 : commute       \n",
      " * control   : \n",
      " * Pauli     : no\n",
      " * Clifford  : no\n",
      " * Gaussian  : no\n",
      " * Parametric: no\n",
      " * Diagonal  : no\n",
      " * Matrix\n",
      "0 0 \n",
      "0 (1,0) \n",
      "\n",
      "\n",
      "[0.+0.j 2.+0.j 0.+0.j 4.+0.j]\n"
     ]
    }
   ],
   "source": [
    "from qulacs import QuantumState\n",
    "from qulacs.gate import SparseMatrix\n",
    "from scipy.sparse import csc_matrix\n",
    "mat = csc_matrix((2,2))\n",
    "mat[1,1] = 1\n",
    "print(\"sparse matrix\", mat)\n",
    "\n",
    "gate = SparseMatrix([0], mat)\n",
    "print(gate)\n",
    "\n",
    "qs = QuantumState(2)\n",
    "qs.load([1,2,3,4])\n",
    "gate.update_quantum_state(qs)\n",
    "print(qs.get_vector())"
   ]
  },
  {
   "cell_type": "markdown",
   "metadata": {},
   "source": [
    "### Add control bit\n",
    "General gates can add a control qubit using the `add_control_qubit` function. You can also specify whether the target qubit has an effect when control qubit is 0 or 1."
   ]
  },
  {
   "cell_type": "code",
   "execution_count": 21,
   "metadata": {},
   "outputs": [
    {
     "name": "stdout",
     "output_type": "stream",
     "text": [
      " *** gate info *** \n",
      " * gate name : DenseMatrix\n",
      " * target    : \n",
      " 0 : commute X     \n",
      " * control   : \n",
      " 1 : value 0\n",
      " * Pauli     : no\n",
      " * Clifford  : no\n",
      " * Gaussian  : no\n",
      " * Parametric: no\n",
      " * Diagonal  : no\n",
      " * Matrix\n",
      "(0,0) (1,0)\n",
      "(1,0) (0,0)\n",
      "\n",
      "[0.+0.j 1.+0.j 2.+0.j 3.+0.j 4.+0.j 5.+0.j 6.+0.j 7.+0.j]\n",
      "[1.+0.j 0.+0.j 2.+0.j 3.+0.j 5.+0.j 4.+0.j 6.+0.j 7.+0.j]\n"
     ]
    }
   ],
   "source": [
    "import numpy as np\n",
    "from qulacs.gate import to_matrix_gate, X\n",
    "\n",
    "index = 0\n",
    "x_gate = X(index)\n",
    "x_mat_gate = to_matrix_gate(x_gate)\n",
    "\n",
    "# Operate only when 1st-qubit is 0\n",
    "control_index = 1\n",
    "control_with_value = 0\n",
    "x_mat_gate.add_control_qubit(control_index, control_with_value)\n",
    "print(x_mat_gate)\n",
    "\n",
    "from qulacs import QuantumState\n",
    "state = QuantumState(3)\n",
    "state.load(np.arange(2**3))\n",
    "print(state.get_vector())\n",
    "\n",
    "x_mat_gate.update_quantum_state(state)\n",
    "print(state.get_vector())"
   ]
  },
  {
   "cell_type": "markdown",
   "metadata": {},
   "source": [
    "## Operation to create a new gate from multiple gates\n",
    "### Gate product\n",
    "Combine successively the operating quantum gates to create a new single quantum gate. This reduces access to quantum states."
   ]
  },
  {
   "cell_type": "code",
   "execution_count": 22,
   "metadata": {},
   "outputs": [
    {
     "name": "stdout",
     "output_type": "stream",
     "text": [
      " *** gate info *** \n",
      " * gate name : DenseMatrix\n",
      " * target    : \n",
      " 1 : commute       \n",
      " * control   : \n",
      " * Pauli     : no\n",
      " * Clifford  : no\n",
      " * Gaussian  : no\n",
      " * Parametric: no\n",
      " * Diagonal  : no\n",
      " * Matrix\n",
      " (0.382683,0)   (0.92388,0)\n",
      "  (0.92388,0) (-0.382683,0)\n",
      "\n"
     ]
    }
   ],
   "source": [
    "import numpy as np\n",
    "from qulacs import QuantumState\n",
    "from qulacs.gate import X, RY, merge\n",
    "\n",
    "n = 3\n",
    "state = QuantumState(n)\n",
    "state.set_zero_state()\n",
    "\n",
    "index = 1\n",
    "x_gate = X(index)\n",
    "angle = np.pi / 4.0\n",
    "ry_gate = RY(index, angle)\n",
    "\n",
    "# Create the new gate by combining gates\n",
    "# First argument operates first\n",
    "x_and_ry_gate = merge(x_gate, ry_gate)\n",
    "print(x_and_ry_gate)"
   ]
  },
  {
   "cell_type": "markdown",
   "metadata": {},
   "source": [
    "### Gate sum\n",
    "You can add multiple gates to create a new gate. This is useful for making the projection of the Pauli operator $P$ onto the +1 eigenvalue space such as $(I + P) / 2$."
   ]
  },
  {
   "cell_type": "code",
   "execution_count": 23,
   "metadata": {},
   "outputs": [
    {
     "name": "stdout",
     "output_type": "stream",
     "text": [
      " *** gate info *** \n",
      " * gate name : DenseMatrix\n",
      " * target    : \n",
      " 0 : commute       \n",
      " 1 : commute       \n",
      " * control   : \n",
      " * Pauli     : no\n",
      " * Clifford  : no\n",
      " * Gaussian  : no\n",
      " * Parametric: no\n",
      " * Diagonal  : no\n",
      " * Matrix\n",
      "(1,0) (0,0) (0,0) (0,0)\n",
      "(0,0) (0,0) (0,0) (0,0)\n",
      "(0,0) (0,0) (0,0) (0,0)\n",
      "(0,0) (0,0) (0,0) (1,0)\n",
      "\n",
      " *** gate info *** \n",
      " * gate name : DenseMatrix\n",
      " * target    : \n",
      " 0 : commute       \n",
      " 1 : commute       \n",
      " * control   : \n",
      " * Pauli     : no\n",
      " * Clifford  : no\n",
      " * Gaussian  : no\n",
      " * Parametric: no\n",
      " * Diagonal  : no\n",
      " * Matrix\n",
      "(0.5,0)   (0,0)   (0,0) (0.5,0)\n",
      "  (0,0)   (0,0)   (0,0)   (0,0)\n",
      "  (0,0)   (0,0)   (0,0)   (0,0)\n",
      "(0.5,0)   (0,0)   (0,0) (0.5,0)\n",
      "\n"
     ]
    }
   ],
   "source": [
    "import numpy as np\n",
    "from qulacs.gate import P0,P1,add, merge, Identity, X, Z\n",
    "\n",
    "gate00 = merge(P0(0),P0(1))\n",
    "gate11 = merge(P1(0),P1(1))\n",
    "# |00><00| + |11><11|\n",
    "proj_00_or_11 = add(gate00, gate11)\n",
    "print(proj_00_or_11)\n",
    "\n",
    "gate_ii_zz = add(Identity(0), merge(Z(0),Z(1)))\n",
    "gate_ii_xx = add(Identity(0), merge(X(0),X(1)))\n",
    "proj_00_plus_11 = merge(gate_ii_zz, gate_ii_xx)\n",
    "# ((|00>+|11>)(<00|+<11|))/2 = (II + ZZ)(II + XX)/4\n",
    "proj_00_plus_11.multiply_scalar(0.25)\n",
    "print(proj_00_plus_11)"
   ]
  },
  {
   "cell_type": "markdown",
   "metadata": {},
   "source": [
    "### Random unitary\n",
    "Use the `RandomUnitary` function to sample a random unitary matrix with the Haar measure and generate a dense matrix gate."
   ]
  },
  {
   "cell_type": "code",
   "execution_count": 24,
   "metadata": {},
   "outputs": [
    {
     "name": "stdout",
     "output_type": "stream",
     "text": [
      " *** gate info *** \n",
      " * gate name : DenseMatrix\n",
      " * target    : \n",
      " 2 : commute       \n",
      " 3 : commute       \n",
      " * control   : \n",
      " * Pauli     : no\n",
      " * Clifford  : no\n",
      " * Gaussian  : no\n",
      " * Parametric: no\n",
      " * Diagonal  : no\n",
      " * Matrix\n",
      " (-0.549679,-0.199309)    (-0.41282,0.191987)  (-0.430215,-0.393607)  (-0.152234,-0.296078)\n",
      "   (0.255527,0.290869)   (0.136685,-0.154401)  (0.0998426,-0.553577) (-0.700763,-0.0097331)\n",
      "   (0.056699,0.690511) (-0.488394,-0.0743973)  (0.0480177,-0.260356)    (0.439362,0.113074)\n",
      " (0.156442,-0.0611172)  (-0.695389,-0.150231)    (0.177095,0.492055) (-0.433419,-0.0657552)\n",
      "\n"
     ]
    }
   ],
   "source": [
    "from qulacs.gate import RandomUnitary\n",
    "target_list = [2,3]\n",
    "gate = RandomUnitary(target_list)\n",
    "print(gate)"
   ]
  },
  {
   "cell_type": "markdown",
   "metadata": {},
   "source": [
    "### Stochastic operation\n",
    "Using the `Probabilistic` function, create the operation by giving multiple gate operations and probability distribution. If the sum of the given probability distributions is less than 1, `Identity` will operate with a probability less than 1."
   ]
  },
  {
   "cell_type": "code",
   "execution_count": 25,
   "metadata": {},
   "outputs": [
    {
     "name": "stdout",
     "output_type": "stream",
     "text": [
      " *** gate info *** \n",
      " * gate name : Generic gate\n",
      " * target    : \n",
      " * control   : \n",
      " * Pauli     : no\n",
      " * Clifford  : no\n",
      " * Gaussian  : no\n",
      " * Parametric: no\n",
      " * Diagonal  : yes\n",
      "\n",
      "[0.+0.j 0.+0.j 1.+0.j 0.+0.j]\n",
      "[0.+0.j 0.+0.j 1.+0.j 0.+0.j]\n",
      "[0.+0.j 0.+0.j 1.+0.j 0.+0.j]\n",
      "[ 0.+0.j -0.-0.j  1.+0.j -0.-0.j]\n",
      "[0.        +0.j 0.        +0.j 0.70710678+0.j 0.70710678+0.j]\n",
      "[0.        +0.j 0.        +0.j 0.70710678+0.j 0.70710678+0.j]\n",
      "[ 0.        +0.j -0.        -0.j  0.70710678+0.j -0.70710678-0.j]\n",
      "[ 0.70710678+0.j -0.70710678-0.j  0.        +0.j -0.        -0.j]\n",
      "[0.+0.j 1.+0.j 0.+0.j 0.+0.j]\n",
      "[ 0.+0.j -1.-0.j  0.+0.j -0.-0.j]\n"
     ]
    }
   ],
   "source": [
    "from qulacs.gate import Probabilistic, H, Z\n",
    "distribution = [0.2, 0.2, 0.2]\n",
    "gate_list = [H(0), Z(0), X(1)]\n",
    "gate = Probabilistic(distribution, gate_list)\n",
    "print(gate)\n",
    "\n",
    "from qulacs import QuantumState\n",
    "state = QuantumState(2)\n",
    "for _ in range(10):\n",
    "    gate.update_quantum_state(state)\n",
    "    print(state.get_vector())"
   ]
  },
  {
   "cell_type": "markdown",
   "metadata": {},
   "source": [
    "`BitFlipNoise`, `DephasingNoise`, `IndependentXZNoise`, `DepolarizingNoise`, and `TwoQubitDepolarizingNoise` gates are defined as stochastic gates. `Probabilistic` instances are generated by entering the error probabilities."
   ]
  },
  {
   "cell_type": "code",
   "execution_count": 26,
   "metadata": {},
   "outputs": [
    {
     "name": "stdout",
     "output_type": "stream",
     "text": [
      "[1.+0.j 0.+0.j 0.+0.j 0.+0.j]\n",
      "[0.-0.j 0.+1.j 0.-0.j 0.+0.j]\n",
      "[0.-0.j 0.+1.j 0.-0.j 0.+0.j]\n",
      "[ 0.-0.j -0.-1.j  0.-0.j -0.-0.j]\n",
      "[0.+0.j 0.-0.j 0.+0.j 0.-1.j]\n",
      "[0.+0.j 0.-0.j 0.+0.j 0.-1.j]\n",
      "[-1.+0.j  0.+0.j -0.+0.j  0.+0.j]\n",
      "[ 0.-0.j  0.+0.j  0.+0.j -0.-1.j]\n",
      "[ 0.-0.j  0.+0.j  0.+0.j -0.-1.j]\n",
      "[ 0.-0.j  0.+0.j  0.+0.j -0.-1.j]\n"
     ]
    }
   ],
   "source": [
    "from qulacs.gate import BitFlipNoise, DephasingNoise, IndependentXZNoise, DepolarizingNoise, TwoQubitDepolarizingNoise\n",
    "target = 0\n",
    "second_target = 1\n",
    "error_prob = 0.8\n",
    "gate = BitFlipNoise(target, error_prob) # X: prob\n",
    "gate = DephasingNoise(target, error_prob) # Z: prob\n",
    "gate = IndependentXZNoise(target, error_prob) # X,Z : prob*(1-prob), Y: prob*prob\n",
    "gate = DepolarizingNoise(target, error_prob) # X,Y,Z : prob/3\n",
    "gate = TwoQubitDepolarizingNoise(target, second_target, error_prob) # {I,X,Y,Z} \\times {I,X,Y,Z} \\setminus {II} : prob/15\n",
    "\n",
    "from qulacs import QuantumState\n",
    "state = QuantumState(2)\n",
    "for _ in range(10):\n",
    "    gate.update_quantum_state(state)\n",
    "    print(state.get_vector())"
   ]
  },
  {
   "cell_type": "markdown",
   "metadata": {},
   "source": [
    "### CPTP mapping\n",
    "CPTP operates by giving a list of Claus operators that satisfy the completeness."
   ]
  },
  {
   "cell_type": "code",
   "execution_count": 27,
   "metadata": {},
   "outputs": [
    {
     "name": "stdout",
     "output_type": "stream",
     "text": [
      "[0.+0.j 0.+0.j 1.+0.j 0.+0.j]\n",
      "[0.+0.j 1.+0.j 0.+0.j 0.+0.j]\n",
      "[0.+0.j 0.+0.j 1.+0.j 0.+0.j]\n",
      "[1.+0.j 0.+0.j 0.+0.j 0.+0.j]\n",
      "[0.+0.j 0.+0.j 0.+0.j 1.+0.j]\n",
      "[1.+0.j 0.+0.j 0.+0.j 0.+0.j]\n",
      "[0.+0.j 0.+0.j 1.+0.j 0.+0.j]\n",
      "[0.+0.j 1.+0.j 0.+0.j 0.+0.j]\n",
      "[0.+0.j 0.+0.j 0.+0.j 1.+0.j]\n",
      "[0.+0.j 0.+0.j 1.+0.j 0.+0.j]\n"
     ]
    }
   ],
   "source": [
    "from qulacs.gate import merge,CPTP, P0,P1\n",
    "\n",
    "gate00 = merge(P0(0),P0(1))\n",
    "gate01 = merge(P0(0),P1(1))\n",
    "gate10 = merge(P1(0),P0(1))\n",
    "gate11 = merge(P1(0),P1(1))\n",
    "\n",
    "gate_list = [gate00, gate01, gate10, gate11]\n",
    "gate = CPTP(gate_list)\n",
    "\n",
    "from qulacs import QuantumState\n",
    "from qulacs.gate import H,merge\n",
    "state = QuantumState(2)\n",
    "for _ in range(10):\n",
    "    state.set_zero_state()\n",
    "    merge(H(0),H(1)).update_quantum_state(state)\n",
    "    gate.update_quantum_state(state)\n",
    "    print(state.get_vector())"
   ]
  },
  {
   "cell_type": "markdown",
   "metadata": {},
   "source": [
    "The `AmplitudeDampingNoise` gate is defined as CPTP-map."
   ]
  },
  {
   "cell_type": "code",
   "execution_count": 28,
   "metadata": {},
   "outputs": [
    {
     "data": {
      "text/plain": [
       " *** gate info *** \n",
       " * gate name : Generic gate\n",
       " * target    : \n",
       " * control   : \n",
       " * Pauli     : no\n",
       " * Clifford  : no\n",
       " * Gaussian  : no\n",
       " * Parametric: no\n",
       " * Diagonal  : yes"
      ]
     },
     "execution_count": 28,
     "metadata": {},
     "output_type": "execute_result"
    }
   ],
   "source": [
    "from qulacs.gate import AmplitudeDampingNoise\n",
    "target = 0\n",
    "damping_rate = 0.1\n",
    "AmplitudeDampingNoise(target, damping_rate) \n",
    "#K_0: [[1,0],[0,sqrt(1-p)]], K_1: [[0,sqrt(p)], [0,0]]"
   ]
  },
  {
   "cell_type": "markdown",
   "metadata": {},
   "source": [
    "### Instrument\n",
    "Instrument is an operation to get the subscript of the Claus operator that acts randomly in addition to the general CPTP-map operation. For example, measurement on the Z basis is equivalent to applying a CPTP-map consisting of `P0` and `P1` and knowing which one has acted. In cppsim, this is achieved in the `Instrument` function, by specifying the information of the CPTP-map and the address of the classic register in which the subscript of the operated Claus operator is written."
   ]
  },
  {
   "cell_type": "code",
   "execution_count": 29,
   "metadata": {},
   "outputs": [
    {
     "name": "stdout",
     "output_type": "stream",
     "text": [
      "0 01 [0.+0.j 1.+0.j 0.+0.j 0.+0.j]\n",
      "1 01 [0.+0.j 1.+0.j 0.+0.j 0.+0.j]\n",
      "2 01 [0.+0.j 1.+0.j 0.+0.j 0.+0.j]\n",
      "3 10 [0.+0.j 0.+0.j 1.+0.j 0.+0.j]\n",
      "4 00 [1.+0.j 0.+0.j 0.+0.j 0.+0.j]\n",
      "5 01 [0.+0.j 1.+0.j 0.+0.j 0.+0.j]\n",
      "6 11 [0.+0.j 0.+0.j 0.+0.j 1.+0.j]\n",
      "7 11 [0.+0.j 0.+0.j 0.+0.j 1.+0.j]\n",
      "8 00 [1.+0.j 0.+0.j 0.+0.j 0.+0.j]\n",
      "9 10 [0.+0.j 0.+0.j 1.+0.j 0.+0.j]\n"
     ]
    }
   ],
   "source": [
    "from qulacs import QuantumState\n",
    "from qulacs.gate import merge,Instrument, P0,P1\n",
    "\n",
    "gate00 = merge(P0(0),P0(1))\n",
    "gate01 = merge(P1(0),P0(1))\n",
    "gate10 = merge(P0(0),P1(1))\n",
    "gate11 = merge(P1(0),P1(1))\n",
    "\n",
    "gate_list = [gate00, gate01, gate10, gate11]\n",
    "classical_pos = 0\n",
    "gate = Instrument(gate_list, classical_pos)\n",
    "\n",
    "from qulacs import QuantumState\n",
    "from qulacs.gate import H,merge\n",
    "state = QuantumState(2)\n",
    "for index in range(10):\n",
    "    state.set_zero_state()\n",
    "    merge(H(0),H(1)).update_quantum_state(state)\n",
    "    gate.update_quantum_state(state)\n",
    "    result = state.get_classical_value(classical_pos)\n",
    "    print(index, format(result,\"b\").zfill(2), state.get_vector())"
   ]
  },
  {
   "cell_type": "markdown",
   "metadata": {},
   "source": [
    "Note that `Measurement` gate is defined as Instrument."
   ]
  },
  {
   "cell_type": "code",
   "execution_count": 30,
   "metadata": {},
   "outputs": [],
   "source": [
    "from qulacs.gate import Measurement\n",
    "target = 0\n",
    "classical_pos = 0\n",
    "gate = Measurement(target, classical_pos)"
   ]
  },
  {
   "cell_type": "markdown",
   "metadata": {},
   "source": [
    "### Adaptive operation\n",
    "This is a gate that uses a function that returns a Boolean value with variable-length list of classical register values as an argument, and determines whether to perform an operation according to the conditions obtained from the classical register. Conditions can be written as python functions. A python function must be a function that takes a list of type `unsigned int` as an argument and returns a bool type value."
   ]
  },
  {
   "cell_type": "code",
   "execution_count": 31,
   "metadata": {},
   "outputs": [
    {
     "name": "stdout",
     "output_type": "stream",
     "text": [
      "func is called! content is  [0]\n",
      "[1.+0.j 0.+0.j]\n",
      "func is called! content is  [1]\n",
      "[0.+0.j 1.+0.j]\n"
     ]
    }
   ],
   "source": [
    "from qulacs.gate import Adaptive, X\n",
    "\n",
    "def func(list):\n",
    "    print(\"func is called! content is \",list)\n",
    "    return list[0]==1\n",
    "\n",
    "\n",
    "gate = Adaptive(X(0), func)\n",
    "\n",
    "state = QuantumState(1)\n",
    "state.set_zero_state()\n",
    "\n",
    "# func returns False, so X does not operate\n",
    "state.set_classical_value(0,0)\n",
    "gate.update_quantum_state(state)\n",
    "print(state.get_vector())\n",
    "\n",
    "# func returns True, so X operates\n",
    "state.set_classical_value(0,1)\n",
    "gate.update_quantum_state(state)\n",
    "print(state.get_vector())"
   ]
  },
  {
   "cell_type": "markdown",
   "metadata": {},
   "source": [
    "## Operators\n",
    "\n",
    "### Pauli operator\n",
    "Observables are represented as linear combinations of Pauli operators with real coefficients. `PauliOperator` class is a class that expresses each term with the coefficient added to the $n$-qubit Pauli operator. Unlike gates, quantum states cannot be updated.\n",
    "\n",
    "#### Create Pauli operator and obtain state"
   ]
  },
  {
   "cell_type": "code",
   "execution_count": 32,
   "metadata": {},
   "outputs": [
    {
     "name": "stdout",
     "output_type": "stream",
     "text": [
      "(0.1+0j) X0 Y1 Z3 Y3\n"
     ]
    }
   ],
   "source": [
    "from qulacs import PauliOperator\n",
    "coef = 0.1\n",
    "s = \"X 0 Y 1 Z 3\"\n",
    "pauli = PauliOperator(s, coef)\n",
    "\n",
    "# Added pauli symbol later\n",
    "pauli.add_single_Pauli(3, 2)\n",
    "\n",
    "# Get the subscript of each pauli symbol\n",
    "index_list = pauli.get_index_list()\n",
    "\n",
    "# Get pauli symbols (I,X,Y,Z -> 0,1,2,3)\n",
    "pauli_id_list = pauli.get_pauli_id_list()\n",
    "\n",
    "# Get pauli coefficient\n",
    "coef = pauli.get_coef()\n",
    "\n",
    "# Create a copy of pauli operator\n",
    "another_pauli = pauli.copy()\n",
    "\n",
    "s = [\"I\",\"X\",\"Y\",\"Z\"]\n",
    "pauli_str = [s[i] for i in pauli_id_list]\n",
    "terms_str = [item[0]+str(item[1]) for item in zip(pauli_str,index_list)]\n",
    "full_str = str(coef) + \" \" + \" \".join(terms_str)\n",
    "print(full_str)"
   ]
  },
  {
   "cell_type": "markdown",
   "metadata": {},
   "source": [
    "#### Expected value of Pauli operator\n",
    "You can evaluate the expected value and transition moment of the Pauli operator for one state."
   ]
  },
  {
   "cell_type": "code",
   "execution_count": 33,
   "metadata": {},
   "outputs": [
    {
     "name": "stdout",
     "output_type": "stream",
     "text": [
      "expect (0.6132028798856664+0j)\n",
      "transition (0.5279713648817308-0.6040063466314933j)\n"
     ]
    }
   ],
   "source": [
    "from qulacs import PauliOperator, QuantumState\n",
    "\n",
    "n = 5\n",
    "coef = 2.0\n",
    "Pauli_string = \"X 0 X 1 Y 2 Z 4\"\n",
    "pauli = PauliOperator(Pauli_string,coef)\n",
    "\n",
    "# Calculate expectation value <a|H|a>\n",
    "state = QuantumState(n)\n",
    "state.set_Haar_random_state()\n",
    "value = pauli.get_expectation_value(state)\n",
    "print(\"expect\", value)\n",
    "\n",
    "# Calculate transition moment <a|H|b>\n",
    "# The first arguments comes to the bra side\n",
    "bra = QuantumState(n)\n",
    "bra.set_Haar_random_state()\n",
    "value = pauli.get_transition_amplitude(bra, state)\n",
    "print(\"transition\", value)"
   ]
  },
  {
   "cell_type": "markdown",
   "metadata": {},
   "source": [
    "### General linear operators\n",
    "The linear operator `GeneralQuantumOperator` is represented by a linear combination of the complex numbers of the Pauli operators. `PauliOperator` with coefficient can be added as a term with `add_operator`."
   ]
  },
  {
   "cell_type": "code",
   "execution_count": 34,
   "metadata": {},
   "outputs": [
    {
     "name": "stdout",
     "output_type": "stream",
     "text": [
      "expect (-0.12123883067235244+0.004874745096201068j)\n",
      "transition (-0.19076380005803-0.03521147847936834j)\n"
     ]
    }
   ],
   "source": [
    "from qulacs import GeneralQuantumOperator, PauliOperator, QuantumState\n",
    "\n",
    "n = 5\n",
    "operator = GeneralQuantumOperator(n)\n",
    "\n",
    "# Pauli operator can be added\n",
    "coef = 2.0+0.5j\n",
    "Pauli_string = \"X 0 X 1 Y 2 Z 4\"\n",
    "pauli = PauliOperator(Pauli_string,coef)\n",
    "operator.add_operator(pauli)\n",
    "# Pauli operator can also be added directly from coefficients and strings\n",
    "operator.add_operator(0.5j, \"Y 1 Z 4\")\n",
    "\n",
    "# Get number of terms\n",
    "term_count = operator.get_term_count()\n",
    "\n",
    "# Get number of quantum bit\n",
    "qubit_count = operator.get_qubit_count()\n",
    "\n",
    "# Get specific terms as PauliOperator\n",
    "index = 1\n",
    "pauli = operator.get_term(index)\n",
    "\n",
    "\n",
    "# Expected value calculation <a|H|a>\n",
    "## Generally not self-adjoint, can return complex value\n",
    "state = QuantumState(n)\n",
    "state.set_Haar_random_state()\n",
    "value = operator.get_expectation_value(state)\n",
    "print(\"expect\", value)\n",
    "\n",
    "# Transition moment calculation <a|H|b>\n",
    "# The first arguments comes to the bra side\n",
    "bra = QuantumState(n)\n",
    "bra.set_Haar_random_state()\n",
    "value = operator.get_transition_amplitude(bra, state)\n",
    "print(\"transition\", value)"
   ]
  },
  {
   "cell_type": "markdown",
   "metadata": {},
   "source": [
    "#### Generation of observables using OpenFermion\n",
    "`OpenFermion` is a tool that gives Hamiltonian to be solved by chemical calculation in the form of Pauli operator. The output of this tool can be read in the form of a file or a string and can be used in the form of an operator."
   ]
  },
  {
   "cell_type": "code",
   "execution_count": 35,
   "metadata": {},
   "outputs": [
    {
     "name": "stdout",
     "output_type": "stream",
     "text": [
      "15\n",
      "4\n"
     ]
    }
   ],
   "source": [
    "from qulacs.quantum_operator import create_quantum_operator_from_openfermion_file\n",
    "from qulacs.quantum_operator import create_quantum_operator_from_openfermion_text\n",
    "\n",
    "open_fermion_text = \"\"\"\n",
    "(-0.8126100000000005+0j) [] +\n",
    "(0.04532175+0j) [X0 Z1 X2] +\n",
    "(0.04532175+0j) [X0 Z1 X2 Z3] +\n",
    "(0.04532175+0j) [Y0 Z1 Y2] +\n",
    "(0.04532175+0j) [Y0 Z1 Y2 Z3] +\n",
    "(0.17120100000000002+0j) [Z0] +\n",
    "(0.17120100000000002+0j) [Z0 Z1] +\n",
    "(0.165868+0j) [Z0 Z1 Z2] +\n",
    "(0.165868+0j) [Z0 Z1 Z2 Z3] +\n",
    "(0.12054625+0j) [Z0 Z2] +\n",
    "(0.12054625+0j) [Z0 Z2 Z3] +\n",
    "(0.16862325+0j) [Z1] +\n",
    "(-0.22279649999999998+0j) [Z1 Z2 Z3] +\n",
    "(0.17434925+0j) [Z1 Z3] +\n",
    "(-0.22279649999999998+0j) [Z2]\n",
    "\"\"\"\n",
    "\n",
    "operator = create_quantum_operator_from_openfermion_text(open_fermion_text)\n",
    "print(operator.get_term_count())\n",
    "print(operator.get_qubit_count())\n",
    "# In the case of create_quantum_operator_from_openfermion_file, specify the path of the file where the above is written in the argument."
   ]
  },
  {
   "cell_type": "markdown",
   "metadata": {},
   "source": [
    "### Hermite operator / observable\n",
    "The Hermite operator is represented by a real linear combination of the Pauli operators. Equivalent to the `GeneralQuatnumOperator` class, except that eigenvalues or expected values are guaranteed to be real."
   ]
  },
  {
   "cell_type": "markdown",
   "metadata": {},
   "source": [
    "The function to read and process from an external file is possible by replacing the `quantum_operator` with the `observable`, and using functions such as `create_observable_from_openfermion_file` `create_observable_from_openfermion_text` `create_split_observable`.\n",
    "\n",
    "#### Separates operators into diagonal and off-diagonal terms\n",
    "When reading an operator from a file, you can separate it into diagonal and off-diagonal components with the `create_split_observable` function."
   ]
  },
  {
   "cell_type": "code",
   "execution_count": null,
   "metadata": {
    "scrolled": true
   },
   "outputs": [],
   "source": [
    "from qulacs.observable import create_split_observable, create_observable_from_openfermion_file\n",
    "\n",
    "# H2.txt must be placed in openfermon format beforehand.\n",
    "operator = create_observable_from_openfermion_file(\"./H2.txt\")\n",
    "diag, nondiag = create_split_observable(\"./H2.txt\")\n",
    "print(operator.get_term_count(), diag.get_term_count(), nondiag.get_term_count())\n",
    "print(operator.get_qubit_count(), diag.get_qubit_count(), nondiag.get_qubit_count())"
   ]
  },
  {
   "cell_type": "markdown",
   "metadata": {},
   "source": [
    "## Quantum Circuits\n",
    "\n",
    "### Structure of a quantum circuit\n",
    "A quantum circuit is represented as a set of quantum gates. For example, a quantum circuit can be configured as follows."
   ]
  },
  {
   "cell_type": "code",
   "execution_count": 37,
   "metadata": {},
   "outputs": [
    {
     "name": "stdout",
     "output_type": "stream",
     "text": [
      "[ 0.35355339+0.j -0.35355339-0.j -0.35355339-0.j  0.35355339+0.j\n",
      " -0.35355339-0.j  0.35355339+0.j  0.35355339+0.j -0.35355339-0.j]\n"
     ]
    }
   ],
   "source": [
    "from qulacs import QuantumState, QuantumCircuit\n",
    "from qulacs.gate import Z\n",
    "n = 3\n",
    "state = QuantumState(n)\n",
    "state.set_zero_state()\n",
    "\n",
    "circuit = QuantumCircuit(n)\n",
    "\n",
    "# Add hadamard gate to quantum circuit\n",
    "for i in range(n):\n",
    "    circuit.add_H_gate(i)\n",
    "\n",
    "# Create gate, which can also be added\n",
    "for i in range(n):\n",
    "    circuit.add_gate(Z(i))\n",
    "\n",
    "# Operate quantum circuit to state\n",
    "circuit.update_quantum_state(state)\n",
    "\n",
    "print(state.get_vector())"
   ]
  },
  {
   "cell_type": "markdown",
   "metadata": {},
   "source": [
    "### Calculation and optimization of depth of quantum circuits\n",
    "By combining quantum gates into a single quantum gate, the number of quantum gates can be reduced and the time required for numerical calculations can be reduced. (Of course, if the number of target qubits increases, or if a quantum gate with a dedicated function is synthesized into a quantum gate without a dedicated function, the total calculation time may not decrease. It depends.)\n",
    "\n",
    "The code below uses the `optimize` function to repeat the greedy synthesis of the quantum gate of the quantum circuit until the target qubit becomes three."
   ]
  },
  {
   "cell_type": "code",
   "execution_count": 38,
   "metadata": {},
   "outputs": [
    {
     "name": "stdout",
     "output_type": "stream",
     "text": [
      "10\n",
      "1\n"
     ]
    }
   ],
   "source": [
    "from qulacs import QuantumCircuit\n",
    "from qulacs.circuit import QuantumCircuitOptimizer\n",
    "n = 5\n",
    "depth = 10\n",
    "circuit = QuantumCircuit(n)\n",
    "for d in range(depth):\n",
    "    for i in range(n):\n",
    "        circuit.add_H_gate(i)\n",
    "\n",
    "# Calculate the depth (depth=10)\n",
    "print(circuit.calculate_depth())\n",
    "\n",
    "# Optimization\n",
    "opt = QuantumCircuitOptimizer()\n",
    "# The maximum quantum gate size allowed to be created\n",
    "max_block_size = 1\n",
    "opt.optimize(circuit, max_block_size)\n",
    "\n",
    "# Calculate the depth (depth=1へ)\n",
    "print(circuit.calculate_depth())"
   ]
  },
  {
   "cell_type": "markdown",
   "metadata": {},
   "source": [
    "###  Debugging quantum circuits\n",
    "When print a quantum circuit, statistical information about the gates included in the quantum circuit will be displayed."
   ]
  },
  {
   "cell_type": "code",
   "execution_count": 39,
   "metadata": {},
   "outputs": [
    {
     "name": "stdout",
     "output_type": "stream",
     "text": [
      "*** Quantum Circuit Info ***\n",
      "# of qubit: 5\n",
      "# of step : 10\n",
      "# of gate : 50\n",
      "# of 1 qubit gate: 50\n",
      "Clifford  : yes\n",
      "Gaussian  : no\n",
      "\n",
      "\n"
     ]
    }
   ],
   "source": [
    "from qulacs import QuantumCircuit\n",
    "from qulacs.circuit import QuantumCircuitOptimizer\n",
    "n = 5\n",
    "depth = 10\n",
    "circuit = QuantumCircuit(n)\n",
    "for d in range(depth):\n",
    "    for i in range(n):\n",
    "        circuit.add_H_gate(i)\n",
    "\n",
    "print(circuit)"
   ]
  },
  {
   "cell_type": "markdown",
   "metadata": {},
   "source": [
    "## Parametric Quantum Circuits\n",
    "Defining a quantum circuit as a `ParametricQuantumCircuit` class enables some functions that are useful for optimizing quantum circuits using variational methods, in addition to the usual functions of the `QuantumCircuit` class.\n",
    "\n",
    "### Application examples of parametric quantum circuits\n",
    "Quantum gates with one rotation angle (`X-rot`, `Y-rot`, `Z-rot`, `multi_qubit_pauli_rotation`) can be added to quantum circuits as parametric quantum gates. For a quantum gate added as a parametric gate, the number of parametric gates can be extracted after the quantum circuit is configured, and the rotation angle can be changed later."
   ]
  },
  {
   "cell_type": "code",
   "execution_count": 40,
   "metadata": {},
   "outputs": [
    {
     "name": "stdout",
     "output_type": "stream",
     "text": [
      " *** Quantum State ***\n",
      " * Qubit Count : 5\n",
      " * Dimension   : 32\n",
      " * State vector : \n",
      "   (0.0292587,0.0842756)\n",
      "   (-0.0199201,0.242442)\n",
      "    (0.181468,-0.104986)\n",
      "  (0.0995482,-0.0233467)\n",
      "     (0.16811,0.0345288)\n",
      "   (0.0562338,-0.225101)\n",
      "    (-0.131558,0.100174)\n",
      "    (0.144257,-0.120167)\n",
      "  (-0.173724,-0.0457571)\n",
      "  (-0.142581,-0.0917222)\n",
      "     (0.210296,0.176269)\n",
      "   (0.0014233,0.0511538)\n",
      "   (-0.00440611,0.26444)\n",
      "   (0.0175043,0.0854573)\n",
      "    (-0.197366,0.133705)\n",
      "     (0.191306,0.316103)\n",
      "   (-0.132828,-0.128943)\n",
      "   (-0.00599114,0.03745)\n",
      "  (-0.203638,-0.0249769)\n",
      "   (-0.157577,0.0372862)\n",
      "   (-0.132844,-0.105019)\n",
      "  (-0.136556,-0.0918098)\n",
      "   (-0.0584003,0.043396)\n",
      "    (-0.02902,0.0680596)\n",
      "   (0.0952735,-0.052631)\n",
      "   (0.0738972,-0.127688)\n",
      "   (0.165229,-0.0591462)\n",
      "(0.0608202,-0.000749349)\n",
      "  (-0.0873545,0.0887971)\n",
      "    (-0.12346,0.0469901)\n",
      " (0.0344535,-0.00645451)\n",
      "   (-0.216478,0.0550732)\n",
      "\n",
      "*** Quantum Circuit Info ***\n",
      "# of qubit: 5\n",
      "# of step : 41\n",
      "# of gate : 171\n",
      "# of 1 qubit gate: 150\n",
      "# of 2 qubit gate: 20\n",
      "# of 3 qubit gate: 0\n",
      "# of 4 qubit gate: 1\n",
      "Clifford  : no\n",
      "Gaussian  : no\n",
      "\n",
      "*** Parameter Info ***\n",
      "# of parameter: 151\n",
      "\n"
     ]
    }
   ],
   "source": [
    "from qulacs import ParametricQuantumCircuit\n",
    "from qulacs import QuantumState\n",
    "import numpy as np\n",
    "\n",
    "n = 5\n",
    "depth = 10\n",
    "\n",
    "# construct parametric quantum circuit with random rotation\n",
    "circuit = ParametricQuantumCircuit(n)\n",
    "for d in range(depth):\n",
    "    for i in range(n):\n",
    "        angle = np.random.rand()\n",
    "        circuit.add_parametric_RX_gate(i,angle)\n",
    "        angle = np.random.rand()\n",
    "        circuit.add_parametric_RY_gate(i,angle)\n",
    "        angle = np.random.rand()\n",
    "        circuit.add_parametric_RZ_gate(i,angle)\n",
    "    for i in range(d%2, n-1, 2):\n",
    "        circuit.add_CNOT_gate(i,i+1)\n",
    "\n",
    "# add multi-qubit Pauli rotation gate as parametric gate (X_0 Y_3 Y_1 X_4)\n",
    "target = [0,3,1,4]\n",
    "pauli_ids = [1,2,2,1]\n",
    "angle = np.random.rand()\n",
    "circuit.add_parametric_multi_Pauli_rotation_gate(target, pauli_ids, angle)\n",
    "\n",
    "# get variable parameter count, and get current parameter\n",
    "parameter_count = circuit.get_parameter_count()\n",
    "param = [circuit.get_parameter(ind) for ind in range(parameter_count)]\n",
    "\n",
    "# set 3rd parameter to 0\n",
    "circuit.set_parameter(3, 0.)\n",
    "\n",
    "# update quantum state\n",
    "state = QuantumState(n)\n",
    "circuit.update_quantum_state(state)\n",
    "\n",
    "# output state and circuit info\n",
    "print(state)\n",
    "print(circuit)"
   ]
  }
 ],
 "metadata": {
  "kernelspec": {
   "display_name": "Python 3.10.8 ('.venv': poetry)",
   "language": "python",
   "name": "python3"
  },
  "language_info": {
   "codemirror_mode": {
    "name": "ipython",
    "version": 3
   },
   "file_extension": ".py",
   "mimetype": "text/x-python",
   "name": "python",
   "nbconvert_exporter": "python",
   "pygments_lexer": "ipython3",
   "version": "3.10.8"
  },
  "vscode": {
   "interpreter": {
    "hash": "9bff6d9ec148787bab095912795760501b1b5d26628b95fea09c0ffd701bfa49"
   }
  }
 },
 "nbformat": 4,
 "nbformat_minor": 4
}
